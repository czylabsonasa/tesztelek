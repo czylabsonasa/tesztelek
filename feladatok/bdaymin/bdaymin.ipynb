{
 "cells": [
  {
   "cell_type": "markdown",
   "metadata": {},
   "source": [
    "## Bdaymin\n",
    "Aladár partit rendez. Barátai közül véletlenszerűen \n",
    "néhányat ($=M$). Az $M$-et úgy akarja meghatározni, hogy $P$-nél nagyobb eséllyel \n",
    "legyen a partin két ember a vendégek közt, akik ugyanazon a napon születettek.<br> \n",
    "Adott $0<P<1$ esetén mekkora a minimális $M$?\n",
    "\n",
    "### Input:\n",
    "$P$\n",
    "\n",
    "$0<P< 1$. Az évet tekintsük $365$ naposnak, az emberek születésnapját \n",
    "pedig egyenletes eloszlásúnak a $365$ napon (azaz minden napnak ugyanolyan esélye van)\n",
    "### Output:\n",
    "$M$\n",
    "\n",
    "A minimálisan meghívandó barátok $M$ száma.\n"
   ]
  },
  {
   "cell_type": "code",
   "execution_count": null,
   "metadata": {},
   "outputs": [],
   "source": []
  }
 ],
 "metadata": {
  "kernelspec": {
   "display_name": "Julia 1.4.1",
   "language": "julia",
   "name": "julia-1.4"
  },
  "language_info": {
   "file_extension": ".jl",
   "mimetype": "application/julia",
   "name": "julia",
   "version": "1.4.1"
  },
  "latex_envs": {
   "LaTeX_envs_menu_present": true,
   "autoclose": false,
   "autocomplete": true,
   "bibliofile": "biblio.bib",
   "cite_by": "apalike",
   "current_citInitial": 1,
   "eqLabelWithNumbers": false,
   "eqNumInitial": 1,
   "hotkeys": {
    "equation": "Ctrl-E",
    "itemize": "Ctrl-I"
   },
   "labels_anchors": false,
   "latex_user_defs": false,
   "report_style_numbering": false,
   "user_envs_cfg": false
  },
  "toc": {
   "base_numbering": 1,
   "nav_menu": {},
   "number_sections": false,
   "sideBar": true,
   "skip_h1_title": true,
   "title_cell": "Table of Contents",
   "title_sidebar": "Contents",
   "toc_cell": false,
   "toc_position": {},
   "toc_section_display": true,
   "toc_window_display": false
  }
 },
 "nbformat": 4,
 "nbformat_minor": 4
}
